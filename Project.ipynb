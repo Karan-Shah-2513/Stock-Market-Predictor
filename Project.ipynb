{
  "cells": [
    {
      "cell_type": "markdown",
      "metadata": {
        "id": "iN3sGpBgBuGt"
      },
      "source": [
        "### Stock Market Prediction And Forecasting Using LSTM"
      ]
    },
    {
      "cell_type": "code",
      "execution_count": 262,
      "metadata": {
        "id": "PgQ3zIIQBuGx"
      },
      "outputs": [],
      "source": [
        "### Keras and Tensorflow >2.0"
      ]
    },
    {
      "cell_type": "code",
      "execution_count": 263,
      "metadata": {
        "id": "S8JylCa1BuGz"
      },
      "outputs": [],
      "source": [
        "### Data Collection\n",
        "import pandas_datareader as pdr\n",
        "key=\"55ac999a349306fc99388b266f6408c78c594f8f\""
      ]
    },
    {
      "cell_type": "code",
      "execution_count": 264,
      "metadata": {
        "id": "gxa5DYhdBuG0",
        "colab": {
          "base_uri": "https://localhost:8080/"
        },
        "outputId": "79c93c41-b06b-4612-b784-cd028d50d6c6"
      },
      "outputs": [
        {
          "output_type": "stream",
          "name": "stderr",
          "text": [
            "/usr/local/lib/python3.7/dist-packages/pandas_datareader/tiingo.py:234: FutureWarning: In a future version of pandas all arguments of concat except for the argument 'objs' will be keyword-only\n",
            "  return pd.concat(dfs, self._concat_axis)\n"
          ]
        }
      ],
      "source": [
        "df = pdr.get_data_tiingo('TSLA', api_key=key)"
      ]
    },
    {
      "cell_type": "code",
      "execution_count": 265,
      "metadata": {
        "id": "qiu243_2BuG0"
      },
      "outputs": [],
      "source": [
        "df.to_csv('DATA.csv')"
      ]
    },
    {
      "cell_type": "code",
      "execution_count": 266,
      "metadata": {
        "id": "xM5u883tBuG0"
      },
      "outputs": [],
      "source": [
        "import pandas as pd"
      ]
    },
    {
      "cell_type": "code",
      "execution_count": 267,
      "metadata": {
        "id": "QUKxMIu5BuG1"
      },
      "outputs": [],
      "source": [
        "df=pd.read_csv('DATA.csv')"
      ]
    },
    {
      "cell_type": "code",
      "execution_count": 268,
      "metadata": {
        "id": "Azh9BjtqBuG1",
        "outputId": "6dfcb5a4-8106-4aae-c975-be800153494d",
        "colab": {
          "base_uri": "https://localhost:8080/",
          "height": 206
        }
      },
      "outputs": [
        {
          "output_type": "execute_result",
          "data": {
            "text/plain": [
              "  symbol                       date   close      high       low    open  \\\n",
              "0   TSLA  2017-04-18 00:00:00+00:00  300.25  300.8399  297.9000  299.70   \n",
              "1   TSLA  2017-04-19 00:00:00+00:00  305.52  306.6200  302.1100  302.46   \n",
              "2   TSLA  2017-04-20 00:00:00+00:00  302.51  309.1500  300.2300  306.51   \n",
              "3   TSLA  2017-04-21 00:00:00+00:00  305.60  306.4000  300.4200  302.00   \n",
              "4   TSLA  2017-04-24 00:00:00+00:00  308.03  310.5500  306.0215  309.22   \n",
              "\n",
              "    volume  adjClose   adjHigh   adjLow  adjOpen  adjVolume  divCash  \\\n",
              "0  3035698    60.050  60.16798  59.5800   59.940   15178490      0.0   \n",
              "1  3898024    61.104  61.32400  60.4220   60.492   19490120      0.0   \n",
              "2  6149352    60.502  61.83000  60.0460   61.302   30746760      0.0   \n",
              "3  4509756    61.120  61.28000  60.0840   60.400   22548780      0.0   \n",
              "4  5077561    61.606  62.11000  61.2043   61.844   25387805      0.0   \n",
              "\n",
              "   splitFactor  \n",
              "0          1.0  \n",
              "1          1.0  \n",
              "2          1.0  \n",
              "3          1.0  \n",
              "4          1.0  "
            ],
            "text/html": [
              "\n",
              "  <div id=\"df-0c3d6597-2542-4b37-9a29-b27ef1c4c019\">\n",
              "    <div class=\"colab-df-container\">\n",
              "      <div>\n",
              "<style scoped>\n",
              "    .dataframe tbody tr th:only-of-type {\n",
              "        vertical-align: middle;\n",
              "    }\n",
              "\n",
              "    .dataframe tbody tr th {\n",
              "        vertical-align: top;\n",
              "    }\n",
              "\n",
              "    .dataframe thead th {\n",
              "        text-align: right;\n",
              "    }\n",
              "</style>\n",
              "<table border=\"1\" class=\"dataframe\">\n",
              "  <thead>\n",
              "    <tr style=\"text-align: right;\">\n",
              "      <th></th>\n",
              "      <th>symbol</th>\n",
              "      <th>date</th>\n",
              "      <th>close</th>\n",
              "      <th>high</th>\n",
              "      <th>low</th>\n",
              "      <th>open</th>\n",
              "      <th>volume</th>\n",
              "      <th>adjClose</th>\n",
              "      <th>adjHigh</th>\n",
              "      <th>adjLow</th>\n",
              "      <th>adjOpen</th>\n",
              "      <th>adjVolume</th>\n",
              "      <th>divCash</th>\n",
              "      <th>splitFactor</th>\n",
              "    </tr>\n",
              "  </thead>\n",
              "  <tbody>\n",
              "    <tr>\n",
              "      <th>0</th>\n",
              "      <td>TSLA</td>\n",
              "      <td>2017-04-18 00:00:00+00:00</td>\n",
              "      <td>300.25</td>\n",
              "      <td>300.8399</td>\n",
              "      <td>297.9000</td>\n",
              "      <td>299.70</td>\n",
              "      <td>3035698</td>\n",
              "      <td>60.050</td>\n",
              "      <td>60.16798</td>\n",
              "      <td>59.5800</td>\n",
              "      <td>59.940</td>\n",
              "      <td>15178490</td>\n",
              "      <td>0.0</td>\n",
              "      <td>1.0</td>\n",
              "    </tr>\n",
              "    <tr>\n",
              "      <th>1</th>\n",
              "      <td>TSLA</td>\n",
              "      <td>2017-04-19 00:00:00+00:00</td>\n",
              "      <td>305.52</td>\n",
              "      <td>306.6200</td>\n",
              "      <td>302.1100</td>\n",
              "      <td>302.46</td>\n",
              "      <td>3898024</td>\n",
              "      <td>61.104</td>\n",
              "      <td>61.32400</td>\n",
              "      <td>60.4220</td>\n",
              "      <td>60.492</td>\n",
              "      <td>19490120</td>\n",
              "      <td>0.0</td>\n",
              "      <td>1.0</td>\n",
              "    </tr>\n",
              "    <tr>\n",
              "      <th>2</th>\n",
              "      <td>TSLA</td>\n",
              "      <td>2017-04-20 00:00:00+00:00</td>\n",
              "      <td>302.51</td>\n",
              "      <td>309.1500</td>\n",
              "      <td>300.2300</td>\n",
              "      <td>306.51</td>\n",
              "      <td>6149352</td>\n",
              "      <td>60.502</td>\n",
              "      <td>61.83000</td>\n",
              "      <td>60.0460</td>\n",
              "      <td>61.302</td>\n",
              "      <td>30746760</td>\n",
              "      <td>0.0</td>\n",
              "      <td>1.0</td>\n",
              "    </tr>\n",
              "    <tr>\n",
              "      <th>3</th>\n",
              "      <td>TSLA</td>\n",
              "      <td>2017-04-21 00:00:00+00:00</td>\n",
              "      <td>305.60</td>\n",
              "      <td>306.4000</td>\n",
              "      <td>300.4200</td>\n",
              "      <td>302.00</td>\n",
              "      <td>4509756</td>\n",
              "      <td>61.120</td>\n",
              "      <td>61.28000</td>\n",
              "      <td>60.0840</td>\n",
              "      <td>60.400</td>\n",
              "      <td>22548780</td>\n",
              "      <td>0.0</td>\n",
              "      <td>1.0</td>\n",
              "    </tr>\n",
              "    <tr>\n",
              "      <th>4</th>\n",
              "      <td>TSLA</td>\n",
              "      <td>2017-04-24 00:00:00+00:00</td>\n",
              "      <td>308.03</td>\n",
              "      <td>310.5500</td>\n",
              "      <td>306.0215</td>\n",
              "      <td>309.22</td>\n",
              "      <td>5077561</td>\n",
              "      <td>61.606</td>\n",
              "      <td>62.11000</td>\n",
              "      <td>61.2043</td>\n",
              "      <td>61.844</td>\n",
              "      <td>25387805</td>\n",
              "      <td>0.0</td>\n",
              "      <td>1.0</td>\n",
              "    </tr>\n",
              "  </tbody>\n",
              "</table>\n",
              "</div>\n",
              "      <button class=\"colab-df-convert\" onclick=\"convertToInteractive('df-0c3d6597-2542-4b37-9a29-b27ef1c4c019')\"\n",
              "              title=\"Convert this dataframe to an interactive table.\"\n",
              "              style=\"display:none;\">\n",
              "        \n",
              "  <svg xmlns=\"http://www.w3.org/2000/svg\" height=\"24px\"viewBox=\"0 0 24 24\"\n",
              "       width=\"24px\">\n",
              "    <path d=\"M0 0h24v24H0V0z\" fill=\"none\"/>\n",
              "    <path d=\"M18.56 5.44l.94 2.06.94-2.06 2.06-.94-2.06-.94-.94-2.06-.94 2.06-2.06.94zm-11 1L8.5 8.5l.94-2.06 2.06-.94-2.06-.94L8.5 2.5l-.94 2.06-2.06.94zm10 10l.94 2.06.94-2.06 2.06-.94-2.06-.94-.94-2.06-.94 2.06-2.06.94z\"/><path d=\"M17.41 7.96l-1.37-1.37c-.4-.4-.92-.59-1.43-.59-.52 0-1.04.2-1.43.59L10.3 9.45l-7.72 7.72c-.78.78-.78 2.05 0 2.83L4 21.41c.39.39.9.59 1.41.59.51 0 1.02-.2 1.41-.59l7.78-7.78 2.81-2.81c.8-.78.8-2.07 0-2.86zM5.41 20L4 18.59l7.72-7.72 1.47 1.35L5.41 20z\"/>\n",
              "  </svg>\n",
              "      </button>\n",
              "      \n",
              "  <style>\n",
              "    .colab-df-container {\n",
              "      display:flex;\n",
              "      flex-wrap:wrap;\n",
              "      gap: 12px;\n",
              "    }\n",
              "\n",
              "    .colab-df-convert {\n",
              "      background-color: #E8F0FE;\n",
              "      border: none;\n",
              "      border-radius: 50%;\n",
              "      cursor: pointer;\n",
              "      display: none;\n",
              "      fill: #1967D2;\n",
              "      height: 32px;\n",
              "      padding: 0 0 0 0;\n",
              "      width: 32px;\n",
              "    }\n",
              "\n",
              "    .colab-df-convert:hover {\n",
              "      background-color: #E2EBFA;\n",
              "      box-shadow: 0px 1px 2px rgba(60, 64, 67, 0.3), 0px 1px 3px 1px rgba(60, 64, 67, 0.15);\n",
              "      fill: #174EA6;\n",
              "    }\n",
              "\n",
              "    [theme=dark] .colab-df-convert {\n",
              "      background-color: #3B4455;\n",
              "      fill: #D2E3FC;\n",
              "    }\n",
              "\n",
              "    [theme=dark] .colab-df-convert:hover {\n",
              "      background-color: #434B5C;\n",
              "      box-shadow: 0px 1px 3px 1px rgba(0, 0, 0, 0.15);\n",
              "      filter: drop-shadow(0px 1px 2px rgba(0, 0, 0, 0.3));\n",
              "      fill: #FFFFFF;\n",
              "    }\n",
              "  </style>\n",
              "\n",
              "      <script>\n",
              "        const buttonEl =\n",
              "          document.querySelector('#df-0c3d6597-2542-4b37-9a29-b27ef1c4c019 button.colab-df-convert');\n",
              "        buttonEl.style.display =\n",
              "          google.colab.kernel.accessAllowed ? 'block' : 'none';\n",
              "\n",
              "        async function convertToInteractive(key) {\n",
              "          const element = document.querySelector('#df-0c3d6597-2542-4b37-9a29-b27ef1c4c019');\n",
              "          const dataTable =\n",
              "            await google.colab.kernel.invokeFunction('convertToInteractive',\n",
              "                                                     [key], {});\n",
              "          if (!dataTable) return;\n",
              "\n",
              "          const docLinkHtml = 'Like what you see? Visit the ' +\n",
              "            '<a target=\"_blank\" href=https://colab.research.google.com/notebooks/data_table.ipynb>data table notebook</a>'\n",
              "            + ' to learn more about interactive tables.';\n",
              "          element.innerHTML = '';\n",
              "          dataTable['output_type'] = 'display_data';\n",
              "          await google.colab.output.renderOutput(dataTable, element);\n",
              "          const docLink = document.createElement('div');\n",
              "          docLink.innerHTML = docLinkHtml;\n",
              "          element.appendChild(docLink);\n",
              "        }\n",
              "      </script>\n",
              "    </div>\n",
              "  </div>\n",
              "  "
            ]
          },
          "metadata": {},
          "execution_count": 268
        }
      ],
      "source": [
        "df.head()"
      ]
    },
    {
      "cell_type": "code",
      "execution_count": 269,
      "metadata": {
        "id": "rsDSkZdoBuG2",
        "outputId": "75e684ad-1c71-4986-cf0a-76280635069e",
        "colab": {
          "base_uri": "https://localhost:8080/",
          "height": 206
        }
      },
      "outputs": [
        {
          "output_type": "execute_result",
          "data": {
            "text/plain": [
              "     symbol                       date    close       high        low  \\\n",
              "1254   TSLA  2022-04-08 00:00:00+00:00  1025.49  1048.4400  1022.4350   \n",
              "1255   TSLA  2022-04-11 00:00:00+00:00   975.93  1008.4681   974.6400   \n",
              "1256   TSLA  2022-04-12 00:00:00+00:00   986.95  1021.1921   976.6001   \n",
              "1257   TSLA  2022-04-13 00:00:00+00:00  1022.37  1026.2400   973.0970   \n",
              "1258   TSLA  2022-04-14 00:00:00+00:00   985.00  1012.7099   982.1900   \n",
              "\n",
              "          open    volume  adjClose    adjHigh     adjLow   adjOpen  adjVolume  \\\n",
              "1254  1043.210  18337896   1025.49  1048.4400  1022.4350  1043.210   18337896   \n",
              "1255   980.400  19785735    975.93  1008.4681   974.6400   980.400   19785735   \n",
              "1256   997.640  21992032    986.95  1021.1921   976.6001   997.640   21992032   \n",
              "1257   981.075  18373737   1022.37  1026.2400   973.0970   981.075   18373737   \n",
              "1258   999.290  19474135    985.00  1012.7099   982.1900   999.290   19474135   \n",
              "\n",
              "      divCash  splitFactor  \n",
              "1254      0.0          1.0  \n",
              "1255      0.0          1.0  \n",
              "1256      0.0          1.0  \n",
              "1257      0.0          1.0  \n",
              "1258      0.0          1.0  "
            ],
            "text/html": [
              "\n",
              "  <div id=\"df-1a43ac80-fbd9-40d3-ba69-305fac64b754\">\n",
              "    <div class=\"colab-df-container\">\n",
              "      <div>\n",
              "<style scoped>\n",
              "    .dataframe tbody tr th:only-of-type {\n",
              "        vertical-align: middle;\n",
              "    }\n",
              "\n",
              "    .dataframe tbody tr th {\n",
              "        vertical-align: top;\n",
              "    }\n",
              "\n",
              "    .dataframe thead th {\n",
              "        text-align: right;\n",
              "    }\n",
              "</style>\n",
              "<table border=\"1\" class=\"dataframe\">\n",
              "  <thead>\n",
              "    <tr style=\"text-align: right;\">\n",
              "      <th></th>\n",
              "      <th>symbol</th>\n",
              "      <th>date</th>\n",
              "      <th>close</th>\n",
              "      <th>high</th>\n",
              "      <th>low</th>\n",
              "      <th>open</th>\n",
              "      <th>volume</th>\n",
              "      <th>adjClose</th>\n",
              "      <th>adjHigh</th>\n",
              "      <th>adjLow</th>\n",
              "      <th>adjOpen</th>\n",
              "      <th>adjVolume</th>\n",
              "      <th>divCash</th>\n",
              "      <th>splitFactor</th>\n",
              "    </tr>\n",
              "  </thead>\n",
              "  <tbody>\n",
              "    <tr>\n",
              "      <th>1254</th>\n",
              "      <td>TSLA</td>\n",
              "      <td>2022-04-08 00:00:00+00:00</td>\n",
              "      <td>1025.49</td>\n",
              "      <td>1048.4400</td>\n",
              "      <td>1022.4350</td>\n",
              "      <td>1043.210</td>\n",
              "      <td>18337896</td>\n",
              "      <td>1025.49</td>\n",
              "      <td>1048.4400</td>\n",
              "      <td>1022.4350</td>\n",
              "      <td>1043.210</td>\n",
              "      <td>18337896</td>\n",
              "      <td>0.0</td>\n",
              "      <td>1.0</td>\n",
              "    </tr>\n",
              "    <tr>\n",
              "      <th>1255</th>\n",
              "      <td>TSLA</td>\n",
              "      <td>2022-04-11 00:00:00+00:00</td>\n",
              "      <td>975.93</td>\n",
              "      <td>1008.4681</td>\n",
              "      <td>974.6400</td>\n",
              "      <td>980.400</td>\n",
              "      <td>19785735</td>\n",
              "      <td>975.93</td>\n",
              "      <td>1008.4681</td>\n",
              "      <td>974.6400</td>\n",
              "      <td>980.400</td>\n",
              "      <td>19785735</td>\n",
              "      <td>0.0</td>\n",
              "      <td>1.0</td>\n",
              "    </tr>\n",
              "    <tr>\n",
              "      <th>1256</th>\n",
              "      <td>TSLA</td>\n",
              "      <td>2022-04-12 00:00:00+00:00</td>\n",
              "      <td>986.95</td>\n",
              "      <td>1021.1921</td>\n",
              "      <td>976.6001</td>\n",
              "      <td>997.640</td>\n",
              "      <td>21992032</td>\n",
              "      <td>986.95</td>\n",
              "      <td>1021.1921</td>\n",
              "      <td>976.6001</td>\n",
              "      <td>997.640</td>\n",
              "      <td>21992032</td>\n",
              "      <td>0.0</td>\n",
              "      <td>1.0</td>\n",
              "    </tr>\n",
              "    <tr>\n",
              "      <th>1257</th>\n",
              "      <td>TSLA</td>\n",
              "      <td>2022-04-13 00:00:00+00:00</td>\n",
              "      <td>1022.37</td>\n",
              "      <td>1026.2400</td>\n",
              "      <td>973.0970</td>\n",
              "      <td>981.075</td>\n",
              "      <td>18373737</td>\n",
              "      <td>1022.37</td>\n",
              "      <td>1026.2400</td>\n",
              "      <td>973.0970</td>\n",
              "      <td>981.075</td>\n",
              "      <td>18373737</td>\n",
              "      <td>0.0</td>\n",
              "      <td>1.0</td>\n",
              "    </tr>\n",
              "    <tr>\n",
              "      <th>1258</th>\n",
              "      <td>TSLA</td>\n",
              "      <td>2022-04-14 00:00:00+00:00</td>\n",
              "      <td>985.00</td>\n",
              "      <td>1012.7099</td>\n",
              "      <td>982.1900</td>\n",
              "      <td>999.290</td>\n",
              "      <td>19474135</td>\n",
              "      <td>985.00</td>\n",
              "      <td>1012.7099</td>\n",
              "      <td>982.1900</td>\n",
              "      <td>999.290</td>\n",
              "      <td>19474135</td>\n",
              "      <td>0.0</td>\n",
              "      <td>1.0</td>\n",
              "    </tr>\n",
              "  </tbody>\n",
              "</table>\n",
              "</div>\n",
              "      <button class=\"colab-df-convert\" onclick=\"convertToInteractive('df-1a43ac80-fbd9-40d3-ba69-305fac64b754')\"\n",
              "              title=\"Convert this dataframe to an interactive table.\"\n",
              "              style=\"display:none;\">\n",
              "        \n",
              "  <svg xmlns=\"http://www.w3.org/2000/svg\" height=\"24px\"viewBox=\"0 0 24 24\"\n",
              "       width=\"24px\">\n",
              "    <path d=\"M0 0h24v24H0V0z\" fill=\"none\"/>\n",
              "    <path d=\"M18.56 5.44l.94 2.06.94-2.06 2.06-.94-2.06-.94-.94-2.06-.94 2.06-2.06.94zm-11 1L8.5 8.5l.94-2.06 2.06-.94-2.06-.94L8.5 2.5l-.94 2.06-2.06.94zm10 10l.94 2.06.94-2.06 2.06-.94-2.06-.94-.94-2.06-.94 2.06-2.06.94z\"/><path d=\"M17.41 7.96l-1.37-1.37c-.4-.4-.92-.59-1.43-.59-.52 0-1.04.2-1.43.59L10.3 9.45l-7.72 7.72c-.78.78-.78 2.05 0 2.83L4 21.41c.39.39.9.59 1.41.59.51 0 1.02-.2 1.41-.59l7.78-7.78 2.81-2.81c.8-.78.8-2.07 0-2.86zM5.41 20L4 18.59l7.72-7.72 1.47 1.35L5.41 20z\"/>\n",
              "  </svg>\n",
              "      </button>\n",
              "      \n",
              "  <style>\n",
              "    .colab-df-container {\n",
              "      display:flex;\n",
              "      flex-wrap:wrap;\n",
              "      gap: 12px;\n",
              "    }\n",
              "\n",
              "    .colab-df-convert {\n",
              "      background-color: #E8F0FE;\n",
              "      border: none;\n",
              "      border-radius: 50%;\n",
              "      cursor: pointer;\n",
              "      display: none;\n",
              "      fill: #1967D2;\n",
              "      height: 32px;\n",
              "      padding: 0 0 0 0;\n",
              "      width: 32px;\n",
              "    }\n",
              "\n",
              "    .colab-df-convert:hover {\n",
              "      background-color: #E2EBFA;\n",
              "      box-shadow: 0px 1px 2px rgba(60, 64, 67, 0.3), 0px 1px 3px 1px rgba(60, 64, 67, 0.15);\n",
              "      fill: #174EA6;\n",
              "    }\n",
              "\n",
              "    [theme=dark] .colab-df-convert {\n",
              "      background-color: #3B4455;\n",
              "      fill: #D2E3FC;\n",
              "    }\n",
              "\n",
              "    [theme=dark] .colab-df-convert:hover {\n",
              "      background-color: #434B5C;\n",
              "      box-shadow: 0px 1px 3px 1px rgba(0, 0, 0, 0.15);\n",
              "      filter: drop-shadow(0px 1px 2px rgba(0, 0, 0, 0.3));\n",
              "      fill: #FFFFFF;\n",
              "    }\n",
              "  </style>\n",
              "\n",
              "      <script>\n",
              "        const buttonEl =\n",
              "          document.querySelector('#df-1a43ac80-fbd9-40d3-ba69-305fac64b754 button.colab-df-convert');\n",
              "        buttonEl.style.display =\n",
              "          google.colab.kernel.accessAllowed ? 'block' : 'none';\n",
              "\n",
              "        async function convertToInteractive(key) {\n",
              "          const element = document.querySelector('#df-1a43ac80-fbd9-40d3-ba69-305fac64b754');\n",
              "          const dataTable =\n",
              "            await google.colab.kernel.invokeFunction('convertToInteractive',\n",
              "                                                     [key], {});\n",
              "          if (!dataTable) return;\n",
              "\n",
              "          const docLinkHtml = 'Like what you see? Visit the ' +\n",
              "            '<a target=\"_blank\" href=https://colab.research.google.com/notebooks/data_table.ipynb>data table notebook</a>'\n",
              "            + ' to learn more about interactive tables.';\n",
              "          element.innerHTML = '';\n",
              "          dataTable['output_type'] = 'display_data';\n",
              "          await google.colab.output.renderOutput(dataTable, element);\n",
              "          const docLink = document.createElement('div');\n",
              "          docLink.innerHTML = docLinkHtml;\n",
              "          element.appendChild(docLink);\n",
              "        }\n",
              "      </script>\n",
              "    </div>\n",
              "  </div>\n",
              "  "
            ]
          },
          "metadata": {},
          "execution_count": 269
        }
      ],
      "source": [
        "df.tail()"
      ]
    },
    {
      "cell_type": "code",
      "execution_count": 270,
      "metadata": {
        "id": "OCGANZdUBuG2"
      },
      "outputs": [],
      "source": [
        "df1=df.reset_index()['close']"
      ]
    },
    {
      "cell_type": "code",
      "execution_count": 271,
      "metadata": {
        "id": "KNaz5IkgBuG3",
        "outputId": "6de7cf7f-a4f2-4983-fbbd-fa0edbc03a69",
        "colab": {
          "base_uri": "https://localhost:8080/"
        }
      },
      "outputs": [
        {
          "output_type": "execute_result",
          "data": {
            "text/plain": [
              "0        300.25\n",
              "1        305.52\n",
              "2        302.51\n",
              "3        305.60\n",
              "4        308.03\n",
              "         ...   \n",
              "1254    1025.49\n",
              "1255     975.93\n",
              "1256     986.95\n",
              "1257    1022.37\n",
              "1258     985.00\n",
              "Name: close, Length: 1259, dtype: float64"
            ]
          },
          "metadata": {},
          "execution_count": 271
        }
      ],
      "source": [
        "df1"
      ]
    },
    {
      "cell_type": "code",
      "execution_count": 272,
      "metadata": {
        "id": "xb2XtYMdBuG3",
        "outputId": "d94b565d-c676-49eb-8a22-90245d9dc39c",
        "colab": {
          "base_uri": "https://localhost:8080/",
          "height": 282
        }
      },
      "outputs": [
        {
          "output_type": "execute_result",
          "data": {
            "text/plain": [
              "[<matplotlib.lines.Line2D at 0x7f16053e7250>]"
            ]
          },
          "metadata": {},
          "execution_count": 272
        },
        {
          "output_type": "display_data",
          "data": {
            "text/plain": [
              "<Figure size 432x288 with 1 Axes>"
            ],
            "image/png": "[encoded data removed]"
          },
          "metadata": {
            "needs_background": "light"
          }
        }
      ],
      "source": [
        "import matplotlib.pyplot as plt\n",
        "plt.plot(df1)"
      ]
    },
    {
      "cell_type": "code",
      "execution_count": 273,
      "metadata": {
        "id": "_8257AEtBuG3"
      },
      "outputs": [],
      "source": [
        "### LSTM are sensitive to the scale of the data. so we apply MinMax scaler "
      ]
    },
    {
      "cell_type": "code",
      "execution_count": 274,
      "metadata": {
        "id": "BFO6BmsdBuG4"
      },
      "outputs": [],
      "source": [
        "import numpy as np"
      ]
    },
    {
      "cell_type": "code",
      "execution_count": 275,
      "metadata": {
        "id": "4T9UzsvCBuG4",
        "outputId": "9ad90697-4fb7-4278-9a4f-d91a06aaabd0",
        "colab": {
          "base_uri": "https://localhost:8080/"
        }
      },
      "outputs": [
        {
          "output_type": "execute_result",
          "data": {
            "text/plain": [
              "0        300.25\n",
              "1        305.52\n",
              "2        302.51\n",
              "3        305.60\n",
              "4        308.03\n",
              "         ...   \n",
              "1254    1025.49\n",
              "1255     975.93\n",
              "1256     986.95\n",
              "1257    1022.37\n",
              "1258     985.00\n",
              "Name: close, Length: 1259, dtype: float64"
            ]
          },
          "metadata": {},
          "execution_count": 275
        }
      ],
      "source": [
        "df1"
      ]
    },
    {
      "cell_type": "code",
      "execution_count": 276,
      "metadata": {
        "id": "74ESwOF_BuG4"
      },
      "outputs": [],
      "source": [
        "from sklearn.preprocessing import MinMaxScaler\n",
        "scaler=MinMaxScaler(feature_range=(0,1))\n",
        "df1=scaler.fit_transform(np.array(df1).reshape(-1,1))"
      ]
    },
    {
      "cell_type": "code",
      "execution_count": 277,
      "metadata": {
        "id": "91HB8Aj-BuG4",
        "outputId": "e16a6326-9e51-4b8b-eb18-0bb9d43496d7",
        "colab": {
          "base_uri": "https://localhost:8080/"
        }
      },
      "outputs": [
        {
          "output_type": "stream",
          "name": "stdout",
          "text": [
            "[[0.05888007]\n",
            " [0.0614386 ]\n",
            " [0.05997728]\n",
            " ...\n",
            " [0.39226519]\n",
            " [0.4094612 ]\n",
            " [0.39131849]]\n"
          ]
        }
      ],
      "source": [
        "print(df1)"
      ]
    },
    {
      "cell_type": "code",
      "execution_count": 278,
      "metadata": {
        "id": "gjvDRrXUBuG5"
      },
      "outputs": [],
      "source": [
        "##splitting dataset into train and test split\n",
        "training_size=int(len(df1)*0.65)\n",
        "test_size=len(df1)-training_size\n",
        "train_data,test_data=df1[0:training_size,:],df1[training_size:len(df1),:1]"
      ]
    },
    {
      "cell_type": "code",
      "execution_count": 279,
      "metadata": {
        "id": "mD4RyjP8BuG5",
        "outputId": "1f05cae0-3be9-48eb-b3bc-f696565d5cba",
        "colab": {
          "base_uri": "https://localhost:8080/"
        }
      },
      "outputs": [
        {
          "output_type": "execute_result",
          "data": {
            "text/plain": [
              "(818, 441)"
            ]
          },
          "metadata": {},
          "execution_count": 279
        }
      ],
      "source": [
        "training_size,test_size"
      ]
    },
    {
      "cell_type": "code",
      "execution_count": 280,
      "metadata": {
        "id": "3LSpJAZ_BuG5",
        "outputId": "83592d66-39a0-4816-fdba-2905e5ecab61",
        "colab": {
          "base_uri": "https://localhost:8080/"
        }
      },
      "outputs": [
        {
          "output_type": "execute_result",
          "data": {
            "text/plain": [
              "array([[0.05888007],\n",
              "       [0.0614386 ],\n",
              "       [0.05997728],\n",
              "       [0.06147744],\n",
              "       [0.06265718],\n",
              "       [0.06545359],\n",
              "       [0.06369612],\n",
              "       [0.06294847],\n",
              "       [0.06558953],\n",
              "       [0.06984241],\n",
              "       [0.06792958],\n",
              "       [0.06410879],\n",
              "       [0.05655458],\n",
              "       [0.06281253],\n",
              "       [0.06224937],\n",
              "       [0.06908019],\n",
              "       [0.07100273],\n",
              "       [0.06997349],\n",
              "       [0.07080368],\n",
              "       [0.06646826],\n",
              "       [0.06701687],\n",
              "       [0.06172504],\n",
              "       [0.06509919],\n",
              "       [0.06401655],\n",
              "       [0.06378351],\n",
              "       [0.06063269],\n",
              "       [0.0637204 ],\n",
              "       [0.06692948],\n",
              "       [0.07096389],\n",
              "       [0.07579936],\n",
              "       [0.0786686 ],\n",
              "       [0.07835788],\n",
              "       [0.07810543],\n",
              "       [0.08173203],\n",
              "       [0.08441678],\n",
              "       [0.08771811],\n",
              "       [0.09274291],\n",
              "       [0.08658692],\n",
              "       [0.08740739],\n",
              "       [0.09563157],\n",
              "       [0.09791822],\n",
              "       [0.09533542],\n",
              "       [0.0934226 ],\n",
              "       [0.09264582],\n",
              "       [0.09383041],\n",
              "       [0.09585004],\n",
              "       [0.09886493],\n",
              "       [0.09927274],\n",
              "       [0.09637922],\n",
              "       [0.08903864],\n",
              "       [0.09334492],\n",
              "       [0.08825214],\n",
              "       [0.08866966],\n",
              "       [0.08430512],\n",
              "       [0.07191059],\n",
              "       [0.06304557],\n",
              "       [0.06517686],\n",
              "       [0.0665508 ],\n",
              "       [0.07197371],\n",
              "       [0.07309033],\n",
              "       [0.07012399],\n",
              "       [0.07224558],\n",
              "       [0.06825972],\n",
              "       [0.0724689 ],\n",
              "       [0.07102215],\n",
              "       [0.07328453],\n",
              "       [0.07254658],\n",
              "       [0.07940168],\n",
              "       [0.07798406],\n",
              "       [0.08004738],\n",
              "       [0.07548864],\n",
              "       [0.07578479],\n",
              "       [0.07015312],\n",
              "       [0.06825972],\n",
              "       [0.07132801],\n",
              "       [0.08162037],\n",
              "       [0.08638787],\n",
              "       [0.08554312],\n",
              "       [0.09042228],\n",
              "       [0.0896018 ],\n",
              "       [0.08565478],\n",
              "       [0.08677869],\n",
              "       [0.08973288],\n",
              "       [0.08901922],\n",
              "       [0.0893008 ],\n",
              "       [0.08396528],\n",
              "       [0.0818    ],\n",
              "       [0.07713931],\n",
              "       [0.07883366],\n",
              "       [0.08437794],\n",
              "       [0.08445562],\n",
              "       [0.08208644],\n",
              "       [0.08092612],\n",
              "       [0.08175145],\n",
              "       [0.08457699],\n",
              "       [0.08589752],\n",
              "       [0.08565478],\n",
              "       [0.08283409],\n",
              "       [0.08037752],\n",
              "       [0.08332929],\n",
              "       [0.07982891],\n",
              "       [0.08967948],\n",
              "       [0.08922312],\n",
              "       [0.09091262],\n",
              "       [0.09645205],\n",
              "       [0.09750556],\n",
              "       [0.10002525],\n",
              "       [0.09521891],\n",
              "       [0.09464118],\n",
              "       [0.09103399],\n",
              "       [0.08356232],\n",
              "       [0.08060084],\n",
              "       [0.08072707],\n",
              "       [0.07864918],\n",
              "       [0.07798406],\n",
              "       [0.07871229],\n",
              "       [0.07892105],\n",
              "       [0.08213013],\n",
              "       [0.08546544],\n",
              "       [0.08562079],\n",
              "       [0.0863733 ],\n",
              "       [0.07960559],\n",
              "       [0.08574702],\n",
              "       [0.08526639],\n",
              "       [0.08579072],\n",
              "       [0.08573731],\n",
              "       [0.08332443],\n",
              "       [0.0858247 ],\n",
              "       [0.08771811],\n",
              "       [0.08391187],\n",
              "       [0.08065424],\n",
              "       [0.0767315 ],\n",
              "       [0.07688685],\n",
              "       [0.07130373],\n",
              "       [0.07146394],\n",
              "       [0.06889085],\n",
              "       [0.06850732],\n",
              "       [0.07406616],\n",
              "       [0.06899281],\n",
              "       [0.05839944],\n",
              "       [0.06171533],\n",
              "       [0.06010836],\n",
              "       [0.06169591],\n",
              "       [0.06089   ],\n",
              "       [0.06021031],\n",
              "       [0.06021031],\n",
              "       [0.06623523],\n",
              "       [0.06298245],\n",
              "       [0.06424473],\n",
              "       [0.06482731],\n",
              "       [0.06606531],\n",
              "       [0.06300187],\n",
              "       [0.06740526],\n",
              "       [0.06487586],\n",
              "       [0.06630805],\n",
              "       [0.06691977],\n",
              "       [0.06727903],\n",
              "       [0.06241929],\n",
              "       [0.06305528],\n",
              "       [0.06192894],\n",
              "       [0.06128324],\n",
              "       [0.06055501],\n",
              "       [0.06519628],\n",
              "       [0.0642156 ],\n",
              "       [0.06610415],\n",
              "       [0.07279418],\n",
              "       [0.07867831],\n",
              "       [0.07770733],\n",
              "       [0.07715387],\n",
              "       [0.07985319],\n",
              "       [0.07762965],\n",
              "       [0.0738574 ],\n",
              "       [0.07282817],\n",
              "       [0.07412928],\n",
              "       [0.07099302],\n",
              "       [0.0671528 ],\n",
              "       [0.06440979],\n",
              "       [0.06621581],\n",
              "       [0.064269  ],\n",
              "       [0.06872579],\n",
              "       [0.06713338],\n",
              "       [0.06585655],\n",
              "       [0.06680811],\n",
              "       [0.07643535],\n",
              "       [0.07511482],\n",
              "       [0.07565371],\n",
              "       [0.077183  ],\n",
              "       [0.0763431 ],\n",
              "       [0.07820738],\n",
              "       [0.08165435],\n",
              "       [0.08039694],\n",
              "       [0.08304285],\n",
              "       [0.0837905 ],\n",
              "       [0.08438765],\n",
              "       [0.08103778],\n",
              "       [0.0770325 ],\n",
              "       [0.07956189],\n",
              "       [0.08280496],\n",
              "       [0.0810038 ],\n",
              "       [0.0851256 ],\n",
              "       [0.08266902],\n",
              "       [0.07999883],\n",
              "       [0.07484294],\n",
              "       [0.07525075],\n",
              "       [0.0806057 ],\n",
              "       [0.0661527 ],\n",
              "       [0.0638175 ],\n",
              "       [0.06639544],\n",
              "       [0.07024537],\n",
              "       [0.06958996],\n",
              "       [0.0752993 ],\n",
              "       [0.0759887 ],\n",
              "       [0.07563915],\n",
              "       [0.07492548],\n",
              "       [0.08117372],\n",
              "       [0.08402839],\n",
              "       [0.08663547],\n",
              "       [0.08351377],\n",
              "       [0.07966385],\n",
              "       [0.07377487],\n",
              "       [0.07580907],\n",
              "       [0.07494975],\n",
              "       [0.07244948],\n",
              "       [0.07443999],\n",
              "       [0.07288642],\n",
              "       [0.07194943],\n",
              "       [0.0808533 ],\n",
              "       [0.07907155],\n",
              "       [0.07168727],\n",
              "       [0.07118721],\n",
              "       [0.06912389],\n",
              "       [0.06534193],\n",
              "       [0.06388061],\n",
              "       [0.06678383],\n",
              "       [0.06317665],\n",
              "       [0.05950636],\n",
              "       [0.06078805],\n",
              "       [0.04865083],\n",
              "       [0.03826137],\n",
              "       [0.0423152 ],\n",
              "       [0.03568828],\n",
              "       [0.04299488],\n",
              "       [0.05241822],\n",
              "       [0.0615357 ],\n",
              "       [0.05841886],\n",
              "       [0.05373875],\n",
              "       [0.0610405 ],\n",
              "       [0.05921021],\n",
              "       [0.05588461],\n",
              "       [0.05892377],\n",
              "       [0.05449126],\n",
              "       [0.05278234],\n",
              "       [0.0555302 ],\n",
              "       [0.05879754],\n",
              "       [0.05402033],\n",
              "       [0.05068502],\n",
              "       [0.05072872],\n",
              "       [0.04938391],\n",
              "       [0.05170941],\n",
              "       [0.05588461],\n",
              "       [0.05579722],\n",
              "       [0.05871986],\n",
              "       [0.05931701],\n",
              "       [0.05120935],\n",
              "       [0.05588946],\n",
              "       [0.06010351],\n",
              "       [0.05971512],\n",
              "       [0.0620843 ],\n",
              "       [0.06119586],\n",
              "       [0.05927332],\n",
              "       [0.05486023],\n",
              "       [0.05107827],\n",
              "       [0.05219489],\n",
              "       [0.05125305],\n",
              "       [0.04750507],\n",
              "       [0.05122877],\n",
              "       [0.04662634],\n",
              "       [0.04859742],\n",
              "       [0.04800513],\n",
              "       [0.04849062],\n",
              "       [0.05087437],\n",
              "       [0.05473886],\n",
              "       [0.05134529],\n",
              "       [0.0547874 ],\n",
              "       [0.05717601],\n",
              "       [0.05445242],\n",
              "       [0.06822573],\n",
              "       [0.06657022],\n",
              "       [0.06733243],\n",
              "       [0.07434289],\n",
              "       [0.07952306],\n",
              "       [0.08049889],\n",
              "       [0.08678111],\n",
              "       [0.08699958],\n",
              "       [0.09314587],\n",
              "       [0.08427114],\n",
              "       [0.08896581],\n",
              "       [0.08182427],\n",
              "       [0.07508569],\n",
              "       [0.07478469],\n",
              "       [0.07914923],\n",
              "       [0.08036295],\n",
              "       [0.08299916],\n",
              "       [0.07961044],\n",
              "       [0.07578479],\n",
              "       [0.06403111],\n",
              "       [0.06320578],\n",
              "       [0.06307955],\n",
              "       [0.0677451 ],\n",
              "       [0.06966763],\n",
              "       [0.06796357],\n",
              "       [0.06687122],\n",
              "       [0.06791987],\n",
              "       [0.06366214],\n",
              "       [0.06977444],\n",
              "       [0.07033761],\n",
              "       [0.06858014],\n",
              "       [0.06535164],\n",
              "       [0.06031227],\n",
              "       [0.057511  ],\n",
              "       [0.06300187],\n",
              "       [0.0619872 ],\n",
              "       [0.05738962],\n",
              "       [0.05398635],\n",
              "       [0.05785569],\n",
              "       [0.05916651],\n",
              "       [0.08280981],\n",
              "       [0.0821447 ],\n",
              "       [0.07914437],\n",
              "       [0.09738904],\n",
              "       [0.09290798],\n",
              "       [0.08422259],\n",
              "       [0.08569847],\n",
              "       [0.08614512],\n",
              "       [0.08188739],\n",
              "       [0.07754226],\n",
              "       [0.07596928],\n",
              "       [0.06142889],\n",
              "       [0.06285623],\n",
              "       [0.06939091],\n",
              "       [0.06926468],\n",
              "       [0.06851703],\n",
              "       [0.06983756],\n",
              "       [0.06811407],\n",
              "       [0.0645166 ],\n",
              "       [0.061191  ],\n",
              "       [0.06028799],\n",
              "       [0.05956461],\n",
              "       [0.05339405],\n",
              "       [0.04940819],\n",
              "       [0.04951014],\n",
              "       [0.04091214],\n",
              "       [0.05171912],\n",
              "       [0.04877705],\n",
              "       [0.05416598],\n",
              "       [0.05364165],\n",
              "       [0.05642836],\n",
              "       [0.05625358],\n",
              "       [0.05145695],\n",
              "       [0.05828292],\n",
              "       [0.05794794],\n",
              "       [0.05832176],\n",
              "       [0.05860335],\n",
              "       [0.05923934],\n",
              "       [0.06340968],\n",
              "       [0.06240958],\n",
              "       [0.04165493],\n",
              "       [0.06395343],\n",
              "       [0.0592539 ],\n",
              "       [0.05623416],\n",
              "       [0.04993737],\n",
              "       [0.04028586],\n",
              "       [0.03475614],\n",
              "       [0.04069852],\n",
              "       [0.03782443],\n",
              "       [0.03556691],\n",
              "       [0.03874686],\n",
              "       [0.0391401 ],\n",
              "       [0.04739341],\n",
              "       [0.04505821],\n",
              "       [0.04123741],\n",
              "       [0.03933915],\n",
              "       [0.03980037],\n",
              "       [0.05591374],\n",
              "       [0.05317558],\n",
              "       [0.06597307],\n",
              "       [0.0737603 ],\n",
              "       [0.07567799],\n",
              "       [0.07327482],\n",
              "       [0.07687714],\n",
              "       [0.08025614],\n",
              "       [0.08129023],\n",
              "       [0.07885794],\n",
              "       [0.07869287],\n",
              "       [0.08213984],\n",
              "       [0.08371282],\n",
              "       [0.08328074],\n",
              "       [0.07394479],\n",
              "       [0.07756168],\n",
              "       [0.08012021],\n",
              "       [0.08227578],\n",
              "       [0.0851256 ],\n",
              "       [0.08471779],\n",
              "       [0.08181456],\n",
              "       [0.07729952],\n",
              "       [0.07129888],\n",
              "       [0.08109118],\n",
              "       [0.08008137],\n",
              "       [0.08199905],\n",
              "       [0.07874627],\n",
              "       [0.08326617],\n",
              "       [0.08715494],\n",
              "       [0.08774238],\n",
              "       [0.08937362],\n",
              "       [0.08690248],\n",
              "       [0.09038829],\n",
              "       [0.09116993],\n",
              "       [0.09109225],\n",
              "       [0.09603938],\n",
              "       [0.09066017],\n",
              "       [0.08226607],\n",
              "       [0.07673635],\n",
              "       [0.07476527],\n",
              "       [0.06622552],\n",
              "       [0.06835681],\n",
              "       [0.0565206 ],\n",
              "       [0.0714251 ],\n",
              "       [0.06658964],\n",
              "       [0.07520221],\n",
              "       [0.07468273],\n",
              "       [0.06367185],\n",
              "       [0.05893348],\n",
              "       [0.067347  ],\n",
              "       [0.07573139],\n",
              "       [0.07592073],\n",
              "       [0.07746458],\n",
              "       [0.08059113],\n",
              "       [0.0817029 ],\n",
              "       [0.07545952],\n",
              "       [0.08032897],\n",
              "       [0.08111546],\n",
              "       [0.08172717],\n",
              "       [0.05985591],\n",
              "       [0.05823437],\n",
              "       [0.05273379],\n",
              "       [0.0546369 ],\n",
              "       [0.05732166],\n",
              "       [0.05700123],\n",
              "       [0.05752556],\n",
              "       [0.06301644],\n",
              "       [0.06216683],\n",
              "       [0.06468652],\n",
              "       [0.06501665],\n",
              "       [0.06912389],\n",
              "       [0.06711882],\n",
              "       [0.06240472],\n",
              "       [0.06157454],\n",
              "       [0.06499238],\n",
              "       [0.06449232],\n",
              "       [0.06272515],\n",
              "       [0.06058899],\n",
              "       [0.06258435],\n",
              "       [0.06149686],\n",
              "       [0.06000155],\n",
              "       [0.05450097],\n",
              "       [0.05619047],\n",
              "       [0.05816155],\n",
              "       [0.05771976],\n",
              "       [0.06591481],\n",
              "       [0.06841022],\n",
              "       [0.05622931],\n",
              "       [0.05165115],\n",
              "       [0.04736914],\n",
              "       [0.04722349],\n",
              "       [0.04739341],\n",
              "       [0.05105885],\n",
              "       [0.05435046],\n",
              "       [0.05068017],\n",
              "       [0.05339891],\n",
              "       [0.0538844 ],\n",
              "       [0.04683024],\n",
              "       [0.04394644],\n",
              "       [0.04296575],\n",
              "       [0.0459418 ],\n",
              "       [0.0461457 ],\n",
              "       [0.04153842],\n",
              "       [0.03954306],\n",
              "       [0.0431114 ],\n",
              "       [0.04653895],\n",
              "       [0.04837895],\n",
              "       [0.04898096],\n",
              "       [0.05350571],\n",
              "       [0.0519036 ],\n",
              "       [0.05478255],\n",
              "       [0.04311626],\n",
              "       [0.04660206],\n",
              "       [0.0457476 ],\n",
              "       [0.04531552],\n",
              "       [0.0471361 ],\n",
              "       [0.04342697],\n",
              "       [0.04307742],\n",
              "       [0.04243657],\n",
              "       [0.04582528],\n",
              "       [0.04479119],\n",
              "       [0.04577673],\n",
              "       [0.04067425],\n",
              "       [0.04123256],\n",
              "       [0.0386886 ],\n",
              "       [0.03333366],\n",
              "       [0.0272699 ],\n",
              "       [0.03034305],\n",
              "       [0.02899339],\n",
              "       [0.0267213 ],\n",
              "       [0.03161988],\n",
              "       [0.03692627],\n",
              "       [0.03707678],\n",
              "       [0.03305693],\n",
              "       [0.03197914],\n",
              "       [0.03059065],\n",
              "       [0.02939634],\n",
              "       [0.02332288],\n",
              "       [0.02589597],\n",
              "       [0.02572119],\n",
              "       [0.02396372],\n",
              "       [0.01556477],\n",
              "       [0.01281205],\n",
              "       [0.01267611],\n",
              "       [0.00668033],\n",
              "       [0.00802027],\n",
              "       [0.0056608 ],\n",
              "       [0.00472381],\n",
              "       [0.00528697],\n",
              "       [0.00449077],\n",
              "       [0.00300518],\n",
              "       [0.        ],\n",
              "       [0.0071027 ],\n",
              "       [0.00855431],\n",
              "       [0.01309849],\n",
              "       [0.01239453],\n",
              "       [0.01646292],\n",
              "       [0.01851169],\n",
              "       [0.01470545],\n",
              "       [0.01696298],\n",
              "       [0.01745332],\n",
              "       [0.02236161],\n",
              "       [0.02222082],\n",
              "       [0.0230413 ],\n",
              "       [0.01973512],\n",
              "       [0.02082261],\n",
              "       [0.02168678],\n",
              "       [0.01980309],\n",
              "       [0.0195652 ],\n",
              "       [0.02129839],\n",
              "       [0.02159939],\n",
              "       [0.02340056],\n",
              "       [0.02212858],\n",
              "       [0.02715339],\n",
              "       [0.02627951],\n",
              "       [0.02493956],\n",
              "       [0.02480362],\n",
              "       [0.02910505],\n",
              "       [0.02894969],\n",
              "       [0.03209566],\n",
              "       [0.03618348],\n",
              "       [0.03563973],\n",
              "       [0.03684374],\n",
              "       [0.0362029 ],\n",
              "       [0.03845556],\n",
              "       [0.03724184],\n",
              "       [0.03942169],\n",
              "       [0.04170834],\n",
              "       [0.02420161],\n",
              "       [0.02382293],\n",
              "       [0.02757576],\n",
              "       [0.03072658],\n",
              "       [0.03041101],\n",
              "       [0.02664362],\n",
              "       [0.02688151],\n",
              "       [0.02395887],\n",
              "       [0.02513861],\n",
              "       [0.02643486],\n",
              "       [0.02880405],\n",
              "       [0.02720679],\n",
              "       [0.02429386],\n",
              "       [0.02720193],\n",
              "       [0.01973512],\n",
              "       [0.01780287],\n",
              "       [0.01989047],\n",
              "       [0.02323549],\n",
              "       [0.02276457],\n",
              "       [0.02032256],\n",
              "       [0.0209634 ],\n",
              "       [0.0157444 ],\n",
              "       [0.01749216],\n",
              "       [0.01704551],\n",
              "       [0.0177786 ],\n",
              "       [0.02074979],\n",
              "       [0.02264319],\n",
              "       [0.0223519 ],\n",
              "       [0.02024974],\n",
              "       [0.02457059],\n",
              "       [0.02353649],\n",
              "       [0.02564352],\n",
              "       [0.0274641 ],\n",
              "       [0.03307635],\n",
              "       [0.0324792 ],\n",
              "       [0.03215392],\n",
              "       [0.0309936 ],\n",
              "       [0.03195487],\n",
              "       [0.03132373],\n",
              "       [0.0328336 ],\n",
              "       [0.02993038],\n",
              "       [0.03022653],\n",
              "       [0.02147802],\n",
              "       [0.02414336],\n",
              "       [0.03087223],\n",
              "       [0.03066347],\n",
              "       [0.03005175],\n",
              "       [0.03190632],\n",
              "       [0.03114896],\n",
              "       [0.02624552],\n",
              "       [0.02546874],\n",
              "       [0.02852246],\n",
              "       [0.02965365],\n",
              "       [0.03182864],\n",
              "       [0.03193059],\n",
              "       [0.03345988],\n",
              "       [0.03786327],\n",
              "       [0.03831477],\n",
              "       [0.03921778],\n",
              "       [0.04029557],\n",
              "       [0.03785841],\n",
              "       [0.03618348],\n",
              "       [0.03719329],\n",
              "       [0.03675635],\n",
              "       [0.05860335],\n",
              "       [0.0724155 ],\n",
              "       [0.0722116 ],\n",
              "       [0.06663333],\n",
              "       [0.06604589],\n",
              "       [0.06600219],\n",
              "       [0.06522056],\n",
              "       [0.06724019],\n",
              "       [0.06711882],\n",
              "       [0.07166299],\n",
              "       [0.07601297],\n",
              "       [0.07678975],\n",
              "       [0.08064939],\n",
              "       [0.08299916],\n",
              "       [0.08114459],\n",
              "       [0.08271757],\n",
              "       [0.08408665],\n",
              "       [0.08302828],\n",
              "       [0.08765499],\n",
              "       [0.08411092],\n",
              "       [0.08537805],\n",
              "       [0.07479925],\n",
              "       [0.07640136],\n",
              "       [0.07279904],\n",
              "       [0.07394965],\n",
              "       [0.07329424],\n",
              "       [0.07568769],\n",
              "       [0.07633339],\n",
              "       [0.0747944 ],\n",
              "       [0.073503  ],\n",
              "       [0.07618289],\n",
              "       [0.07795007],\n",
              "       [0.08246997],\n",
              "       [0.08434396],\n",
              "       [0.08773267],\n",
              "       [0.08710639],\n",
              "       [0.09832603],\n",
              "       [0.09710746],\n",
              "       [0.10398198],\n",
              "       [0.10926895],\n",
              "       [0.11002146],\n",
              "       [0.11663867],\n",
              "       [0.11956617],\n",
              "       [0.1223286 ],\n",
              "       [0.12205672],\n",
              "       [0.11444426],\n",
              "       [0.11620659],\n",
              "       [0.12199847],\n",
              "       [0.12818845],\n",
              "       [0.13232967],\n",
              "       [0.14083543],\n",
              "       [0.15204051],\n",
              "       [0.14679723],\n",
              "       [0.14524852],\n",
              "       [0.1679257 ],\n",
              "       [0.17426618],\n",
              "       [0.16483799],\n",
              "       [0.16240569],\n",
              "       [0.16095408],\n",
              "       [0.17877152],\n",
              "       [0.18962705],\n",
              "       [0.19090874],\n",
              "       [0.18732583],\n",
              "       [0.18402451],\n",
              "       [0.18833565],\n",
              "       [0.19517618],\n",
              "       [0.22421812],\n",
              "       [0.22895649],\n",
              "       [0.2917933 ],\n",
              "       [0.34376972],\n",
              "       [0.26980066],\n",
              "       [0.27672373],\n",
              "       [0.27629164],\n",
              "       [0.28755984],\n",
              "       [0.28906485],\n",
              "       [0.28562274],\n",
              "       [0.30344503],\n",
              "       [0.30151764],\n",
              "       [0.32985562],\n",
              "       [0.35850916],\n",
              "       [0.34976551],\n",
              "       [0.35053744],\n",
              "       [0.31790774],\n",
              "       [0.30145938],\n",
              "       [0.29121071],\n",
              "       [0.24275894],\n",
              "       [0.2374137 ],\n",
              "       [0.27413122],\n",
              "       [0.27504879],\n",
              "       [0.27698589],\n",
              "       [0.26486809],\n",
              "       [0.2546437 ],\n",
              "       [0.20828923],\n",
              "       [0.22641253],\n",
              "       [0.2210236 ],\n",
              "       [0.18525279],\n",
              "       [0.17848994],\n",
              "       [0.12918855],\n",
              "       [0.12196934],\n",
              "       [0.08848032],\n",
              "       [0.12072649],\n",
              "       [0.12067308],\n",
              "       [0.12395499],\n",
              "       [0.15828389],\n",
              "       [0.17491188],\n",
              "       [0.16952781],\n",
              "       [0.16282807],\n",
              "       [0.15689054],\n",
              "       [0.16750818],\n",
              "       [0.14690404],\n",
              "       [0.13375215],\n",
              "       [0.14615153],\n",
              "       [0.16374079],\n",
              "       [0.17792191],\n",
              "       [0.17956772],\n",
              "       [0.19129713],\n",
              "       [0.22914098],\n",
              "       [0.25775568],\n",
              "       [0.26743633],\n",
              "       [0.27490314],\n",
              "       [0.27911719],\n",
              "       [0.27546146],\n",
              "       [0.24650691],\n",
              "       [0.26854324],\n",
              "       [0.2556875 ],\n",
              "       [0.26516424],\n",
              "       [0.30089621],\n",
              "       [0.28651118],\n",
              "       [0.30175067],\n",
              "       [0.29270602],\n",
              "       [0.25359504],\n",
              "       [0.28266126],\n",
              "       [0.28606939],\n",
              "       [0.29304586],\n",
              "       [0.29181272],\n",
              "       [0.31093126],\n",
              "       [0.30698424],\n",
              "       [0.30607152],\n",
              "       [0.29711425],\n",
              "       [0.30311975],\n",
              "       [0.30110012],\n",
              "       [0.30812028],\n",
              "       [0.30539184],\n",
              "       [0.30905728],\n",
              "       [0.31490256],\n",
              "       [0.30969812],\n",
              "       [0.31066425],\n",
              "       [0.31132451],\n",
              "       [0.30432376],\n",
              "       [0.31849518],\n",
              "       [0.34912952],\n",
              "       [0.34109953],\n",
              "       [0.34177922],\n",
              "       [0.33275884],\n",
              "       [0.34309004],\n",
              "       [0.37428755],\n",
              "       [0.36979677],\n",
              "       [0.41076231],\n",
              "       [0.38541495],\n",
              "       [0.36717999],\n",
              "       [0.39418287],\n",
              "       [0.38992514],\n",
              "       [0.39461496],\n",
              "       [0.40052336],\n",
              "       [0.39903776],\n",
              "       [0.39584325],\n",
              "       [0.39946499],\n",
              "       [0.37959394],\n",
              "       [0.39179427],\n",
              "       [0.37905504],\n",
              "       [0.40314014],\n",
              "       [0.43734768],\n",
              "       [0.45667984],\n",
              "       [0.4999029 ],\n",
              "       [0.57899873],\n",
              "       [0.58787346],\n",
              "       [0.57623144],\n",
              "       [0.59001932],\n",
              "       [0.66302226],\n",
              "       [0.63991786],\n",
              "       [0.6495014 ],\n",
              "       [0.66368253],\n",
              "       [0.6416559 ]])"
            ]
          },
          "metadata": {},
          "execution_count": 280
        }
      ],
      "source": [
        "train_data"
      ]
    },
    {
      "cell_type": "code",
      "execution_count": 281,
      "metadata": {
        "id": "T0ci_Za_BuG5"
      },
      "outputs": [],
      "source": [
        "import numpy\n",
        "# convert an array of values into a dataset matrix\n",
        "def create_dataset(dataset, time_step=1):\n",
        "\tdataX, dataY = [], []\n",
        "\tfor i in range(len(dataset)-time_step-1):\n",
        "\t\ta = dataset[i:(i+time_step), 0]   ###i=0, 0,1,2,3-----99   100 \n",
        "\t\tdataX.append(a)\n",
        "\t\tdataY.append(dataset[i + time_step, 0])\n",
        "\treturn numpy.array(dataX), numpy.array(dataY)"
      ]
    },
    {
      "cell_type": "code",
      "execution_count": 282,
      "metadata": {
        "id": "eHVDoIIRBuG6"
      },
      "outputs": [],
      "source": [
        "# reshape into X=t,t+1,t+2,t+3 and Y=t+4\n",
        "time_step = 100\n",
        "X_train, y_train = create_dataset(train_data, time_step)\n",
        "X_test, ytest = create_dataset(test_data, time_step)"
      ]
    },
    {
      "cell_type": "code",
      "execution_count": 283,
      "metadata": {
        "id": "2ZsNSXaFBuG6",
        "outputId": "e03cbcb8-3e50-4a79-abb9-0ca388d80645",
        "colab": {
          "base_uri": "https://localhost:8080/"
        }
      },
      "outputs": [
        {
          "output_type": "stream",
          "name": "stdout",
          "text": [
            "(717, 100)\n",
            "(717,)\n"
          ]
        },
        {
          "output_type": "execute_result",
          "data": {
            "text/plain": [
              "(None, None)"
            ]
          },
          "metadata": {},
          "execution_count": 283
        }
      ],
      "source": [
        "print(X_train.shape), print(y_train.shape)"
      ]
    },
    {
      "cell_type": "code",
      "execution_count": 284,
      "metadata": {
        "id": "2LOToxOKBuG6",
        "outputId": "58cce16f-820f-4615-c860-2c1b8517e67d",
        "colab": {
          "base_uri": "https://localhost:8080/"
        }
      },
      "outputs": [
        {
          "output_type": "stream",
          "name": "stdout",
          "text": [
            "(340, 100)\n",
            "(340,)\n"
          ]
        },
        {
          "output_type": "execute_result",
          "data": {
            "text/plain": [
              "(None, None)"
            ]
          },
          "metadata": {},
          "execution_count": 284
        }
      ],
      "source": [
        "print(X_test.shape), print(ytest.shape)"
      ]
    },
    {
      "cell_type": "code",
      "execution_count": 285,
      "metadata": {
        "id": "13aYGXz8BuG6"
      },
      "outputs": [],
      "source": [
        "# reshape input to be [samples, time steps, features] which is required for LSTM\n",
        "X_train =X_train.reshape(X_train.shape[0],X_train.shape[1] , 1)\n",
        "X_test = X_test.reshape(X_test.shape[0],X_test.shape[1] , 1)"
      ]
    },
    {
      "cell_type": "code",
      "execution_count": 286,
      "metadata": {
        "id": "M5p43dFeBuG6"
      },
      "outputs": [],
      "source": [
        "### Create the Stacked LSTM model\n",
        "from tensorflow.keras.models import Sequential\n",
        "from tensorflow.keras.layers import Dense\n",
        "from tensorflow.keras.layers import LSTM"
      ]
    },
    {
      "cell_type": "code",
      "execution_count": 287,
      "metadata": {
        "id": "eXDSqZtHBuG7"
      },
      "outputs": [],
      "source": [
        "model=Sequential()\n",
        "model.add(LSTM(50,return_sequences=True,input_shape=(100,1)))\n",
        "model.add(LSTM(50,return_sequences=True))\n",
        "model.add(LSTM(50))\n",
        "model.add(Dense(1))\n",
        "model.compile(loss='mean_squared_error',optimizer='adam')\n"
      ]
    },
    {
      "cell_type": "code",
      "execution_count": 288,
      "metadata": {
        "id": "jvEEI7JkBuG7",
        "outputId": "e071fdab-2a70-4879-eaa4-7f33f6ef465b",
        "colab": {
          "base_uri": "https://localhost:8080/"
        }
      },
      "outputs": [
        {
          "output_type": "stream",
          "name": "stdout",
          "text": [
            "Model: \"sequential_5\"\n",
            "_________________________________________________________________\n",
            " Layer (type)                Output Shape              Param #   \n",
            "=================================================================\n",
            " lstm_15 (LSTM)              (None, 100, 50)           10400     \n",
            "                                                                 \n",
            " lstm_16 (LSTM)              (None, 100, 50)           20200     \n",
            "                                                                 \n",
            " lstm_17 (LSTM)              (None, 50)                20200     \n",
            "                                                                 \n",
            " dense_5 (Dense)             (None, 1)                 51        \n",
            "                                                                 \n",
            "=================================================================\n",
            "Total params: 50,851\n",
            "Trainable params: 50,851\n",
            "Non-trainable params: 0\n",
            "_________________________________________________________________\n"
          ]
        }
      ],
      "source": [
        "model.summary()"
      ]
    },
    {
      "cell_type": "code",
      "execution_count": 289,
      "metadata": {
        "id": "a9Ss3VtuBuG7",
        "outputId": "af236032-2961-4f05-b624-97856ec61cc4",
        "colab": {
          "base_uri": "https://localhost:8080/"
        }
      },
      "outputs": [
        {
          "output_type": "stream",
          "name": "stdout",
          "text": [
            "Model: \"sequential_5\"\n",
            "_________________________________________________________________\n",
            " Layer (type)                Output Shape              Param #   \n",
            "=================================================================\n",
            " lstm_15 (LSTM)              (None, 100, 50)           10400     \n",
            "                                                                 \n",
            " lstm_16 (LSTM)              (None, 100, 50)           20200     \n",
            "                                                                 \n",
            " lstm_17 (LSTM)              (None, 50)                20200     \n",
            "                                                                 \n",
            " dense_5 (Dense)             (None, 1)                 51        \n",
            "                                                                 \n",
            "=================================================================\n",
            "Total params: 50,851\n",
            "Trainable params: 50,851\n",
            "Non-trainable params: 0\n",
            "_________________________________________________________________\n"
          ]
        }
      ],
      "source": [
        "model.summary()"
      ]
    },
    {
      "cell_type": "code",
      "execution_count": 289,
      "metadata": {
        "id": "qxMs5yRVBuG7"
      },
      "outputs": [],
      "source": [
        ""
      ]
    },
    {
      "cell_type": "code",
      "execution_count": 290,
      "metadata": {
        "id": "VR2WC9aTBuG7",
        "outputId": "98dc189e-8c58-4235-9670-a2b90eb3e5be",
        "colab": {
          "base_uri": "https://localhost:8080/",
          "height": 588
        }
      },
      "outputs": [
        {
          "output_type": "stream",
          "name": "stdout",
          "text": [
            "Epoch 1/100\n",
            "12/12 [==============================] - 10s 357ms/step - loss: 0.0094 - val_loss: 0.0099\n",
            "Epoch 2/100\n",
            "12/12 [==============================] - 2s 202ms/step - loss: 0.0019 - val_loss: 0.0037\n",
            "Epoch 3/100\n",
            "12/12 [==============================] - 2s 202ms/step - loss: 0.0012 - val_loss: 0.0058\n",
            "Epoch 4/100\n",
            "12/12 [==============================] - 2s 207ms/step - loss: 0.0011 - val_loss: 0.0042\n",
            "Epoch 5/100\n",
            "12/12 [==============================] - 2s 206ms/step - loss: 0.0011 - val_loss: 0.0045\n",
            "Epoch 6/100\n",
            "12/12 [==============================] - 2s 207ms/step - loss: 0.0011 - val_loss: 0.0050\n",
            "Epoch 7/100\n",
            "12/12 [==============================] - 2s 205ms/step - loss: 9.7955e-04 - val_loss: 0.0044\n",
            "Epoch 8/100\n",
            "10/12 [========================>.....] - ETA: 0s - loss: 8.6299e-04"
          ]
        },
        {
          "output_type": "error",
          "ename": "KeyboardInterrupt",
          "evalue": "ignored",
          "traceback": [
            "\u001b[0;31m---------------------------------------------------------------------------\u001b[0m",
            "\u001b[0;31mKeyboardInterrupt\u001b[0m                         Traceback (most recent call last)",
            "\u001b[0;32m<ipython-input-290-82657f88da1d>\u001b[0m in \u001b[0;36m<module>\u001b[0;34m()\u001b[0m\n\u001b[0;32m----> 1\u001b[0;31m \u001b[0mmodel\u001b[0m\u001b[0;34m.\u001b[0m\u001b[0mfit\u001b[0m\u001b[0;34m(\u001b[0m\u001b[0mX_train\u001b[0m\u001b[0;34m,\u001b[0m\u001b[0my_train\u001b[0m\u001b[0;34m,\u001b[0m\u001b[0mvalidation_data\u001b[0m\u001b[0;34m=\u001b[0m\u001b[0;34m(\u001b[0m\u001b[0mX_test\u001b[0m\u001b[0;34m,\u001b[0m\u001b[0mytest\u001b[0m\u001b[0;34m)\u001b[0m\u001b[0;34m,\u001b[0m\u001b[0mepochs\u001b[0m\u001b[0;34m=\u001b[0m\u001b[0;36m100\u001b[0m\u001b[0;34m,\u001b[0m\u001b[0mbatch_size\u001b[0m\u001b[0;34m=\u001b[0m\u001b[0;36m64\u001b[0m\u001b[0;34m,\u001b[0m\u001b[0mverbose\u001b[0m\u001b[0;34m=\u001b[0m\u001b[0;36m1\u001b[0m\u001b[0;34m)\u001b[0m\u001b[0;34m\u001b[0m\u001b[0;34m\u001b[0m\u001b[0m\n\u001b[0m",
            "\u001b[0;32m/usr/local/lib/python3.7/dist-packages/keras/utils/traceback_utils.py\u001b[0m in \u001b[0;36merror_handler\u001b[0;34m(*args, **kwargs)\u001b[0m\n\u001b[1;32m     62\u001b[0m     \u001b[0mfiltered_tb\u001b[0m \u001b[0;34m=\u001b[0m \u001b[0;32mNone\u001b[0m\u001b[0;34m\u001b[0m\u001b[0;34m\u001b[0m\u001b[0m\n\u001b[1;32m     63\u001b[0m     \u001b[0;32mtry\u001b[0m\u001b[0;34m:\u001b[0m\u001b[0;34m\u001b[0m\u001b[0;34m\u001b[0m\u001b[0m\n\u001b[0;32m---> 64\u001b[0;31m       \u001b[0;32mreturn\u001b[0m \u001b[0mfn\u001b[0m\u001b[0;34m(\u001b[0m\u001b[0;34m*\u001b[0m\u001b[0margs\u001b[0m\u001b[0;34m,\u001b[0m \u001b[0;34m**\u001b[0m\u001b[0mkwargs\u001b[0m\u001b[0;34m)\u001b[0m\u001b[0;34m\u001b[0m\u001b[0;34m\u001b[0m\u001b[0m\n\u001b[0m\u001b[1;32m     65\u001b[0m     \u001b[0;32mexcept\u001b[0m \u001b[0mException\u001b[0m \u001b[0;32mas\u001b[0m \u001b[0me\u001b[0m\u001b[0;34m:\u001b[0m  \u001b[0;31m# pylint: disable=broad-except\u001b[0m\u001b[0;34m\u001b[0m\u001b[0;34m\u001b[0m\u001b[0m\n\u001b[1;32m     66\u001b[0m       \u001b[0mfiltered_tb\u001b[0m \u001b[0;34m=\u001b[0m \u001b[0m_process_traceback_frames\u001b[0m\u001b[0;34m(\u001b[0m\u001b[0me\u001b[0m\u001b[0;34m.\u001b[0m\u001b[0m__traceback__\u001b[0m\u001b[0;34m)\u001b[0m\u001b[0;34m\u001b[0m\u001b[0;34m\u001b[0m\u001b[0m\n",
            "\u001b[0;32m/usr/local/lib/python3.7/dist-packages/keras/engine/training.py\u001b[0m in \u001b[0;36mfit\u001b[0;34m(self, x, y, batch_size, epochs, verbose, callbacks, validation_split, validation_data, shuffle, class_weight, sample_weight, initial_epoch, steps_per_epoch, validation_steps, validation_batch_size, validation_freq, max_queue_size, workers, use_multiprocessing)\u001b[0m\n\u001b[1;32m   1382\u001b[0m                 _r=1):\n\u001b[1;32m   1383\u001b[0m               \u001b[0mcallbacks\u001b[0m\u001b[0;34m.\u001b[0m\u001b[0mon_train_batch_begin\u001b[0m\u001b[0;34m(\u001b[0m\u001b[0mstep\u001b[0m\u001b[0;34m)\u001b[0m\u001b[0;34m\u001b[0m\u001b[0;34m\u001b[0m\u001b[0m\n\u001b[0;32m-> 1384\u001b[0;31m               \u001b[0mtmp_logs\u001b[0m \u001b[0;34m=\u001b[0m \u001b[0mself\u001b[0m\u001b[0;34m.\u001b[0m\u001b[0mtrain_function\u001b[0m\u001b[0;34m(\u001b[0m\u001b[0miterator\u001b[0m\u001b[0;34m)\u001b[0m\u001b[0;34m\u001b[0m\u001b[0;34m\u001b[0m\u001b[0m\n\u001b[0m\u001b[1;32m   1385\u001b[0m               \u001b[0;32mif\u001b[0m \u001b[0mdata_handler\u001b[0m\u001b[0;34m.\u001b[0m\u001b[0mshould_sync\u001b[0m\u001b[0;34m:\u001b[0m\u001b[0;34m\u001b[0m\u001b[0;34m\u001b[0m\u001b[0m\n\u001b[1;32m   1386\u001b[0m                 \u001b[0mcontext\u001b[0m\u001b[0;34m.\u001b[0m\u001b[0masync_wait\u001b[0m\u001b[0;34m(\u001b[0m\u001b[0;34m)\u001b[0m\u001b[0;34m\u001b[0m\u001b[0;34m\u001b[0m\u001b[0m\n",
            "\u001b[0;32m/usr/local/lib/python3.7/dist-packages/tensorflow/python/util/traceback_utils.py\u001b[0m in \u001b[0;36merror_handler\u001b[0;34m(*args, **kwargs)\u001b[0m\n\u001b[1;32m    148\u001b[0m     \u001b[0mfiltered_tb\u001b[0m \u001b[0;34m=\u001b[0m \u001b[0;32mNone\u001b[0m\u001b[0;34m\u001b[0m\u001b[0;34m\u001b[0m\u001b[0m\n\u001b[1;32m    149\u001b[0m     \u001b[0;32mtry\u001b[0m\u001b[0;34m:\u001b[0m\u001b[0;34m\u001b[0m\u001b[0;34m\u001b[0m\u001b[0m\n\u001b[0;32m--> 150\u001b[0;31m       \u001b[0;32mreturn\u001b[0m \u001b[0mfn\u001b[0m\u001b[0;34m(\u001b[0m\u001b[0;34m*\u001b[0m\u001b[0margs\u001b[0m\u001b[0;34m,\u001b[0m \u001b[0;34m**\u001b[0m\u001b[0mkwargs\u001b[0m\u001b[0;34m)\u001b[0m\u001b[0;34m\u001b[0m\u001b[0;34m\u001b[0m\u001b[0m\n\u001b[0m\u001b[1;32m    151\u001b[0m     \u001b[0;32mexcept\u001b[0m \u001b[0mException\u001b[0m \u001b[0;32mas\u001b[0m \u001b[0me\u001b[0m\u001b[0;34m:\u001b[0m\u001b[0;34m\u001b[0m\u001b[0;34m\u001b[0m\u001b[0m\n\u001b[1;32m    152\u001b[0m       \u001b[0mfiltered_tb\u001b[0m \u001b[0;34m=\u001b[0m \u001b[0m_process_traceback_frames\u001b[0m\u001b[0;34m(\u001b[0m\u001b[0me\u001b[0m\u001b[0;34m.\u001b[0m\u001b[0m__traceback__\u001b[0m\u001b[0;34m)\u001b[0m\u001b[0;34m\u001b[0m\u001b[0;34m\u001b[0m\u001b[0m\n",
            "\u001b[0;32m/usr/local/lib/python3.7/dist-packages/tensorflow/python/eager/def_function.py\u001b[0m in \u001b[0;36m__call__\u001b[0;34m(self, *args, **kwds)\u001b[0m\n\u001b[1;32m    913\u001b[0m \u001b[0;34m\u001b[0m\u001b[0m\n\u001b[1;32m    914\u001b[0m       \u001b[0;32mwith\u001b[0m \u001b[0mOptionalXlaContext\u001b[0m\u001b[0;34m(\u001b[0m\u001b[0mself\u001b[0m\u001b[0;34m.\u001b[0m\u001b[0m_jit_compile\u001b[0m\u001b[0;34m)\u001b[0m\u001b[0;34m:\u001b[0m\u001b[0;34m\u001b[0m\u001b[0;34m\u001b[0m\u001b[0m\n\u001b[0;32m--> 915\u001b[0;31m         \u001b[0mresult\u001b[0m \u001b[0;34m=\u001b[0m \u001b[0mself\u001b[0m\u001b[0;34m.\u001b[0m\u001b[0m_call\u001b[0m\u001b[0;34m(\u001b[0m\u001b[0;34m*\u001b[0m\u001b[0margs\u001b[0m\u001b[0;34m,\u001b[0m \u001b[0;34m**\u001b[0m\u001b[0mkwds\u001b[0m\u001b[0;34m)\u001b[0m\u001b[0;34m\u001b[0m\u001b[0;34m\u001b[0m\u001b[0m\n\u001b[0m\u001b[1;32m    916\u001b[0m \u001b[0;34m\u001b[0m\u001b[0m\n\u001b[1;32m    917\u001b[0m       \u001b[0mnew_tracing_count\u001b[0m \u001b[0;34m=\u001b[0m \u001b[0mself\u001b[0m\u001b[0;34m.\u001b[0m\u001b[0mexperimental_get_tracing_count\u001b[0m\u001b[0;34m(\u001b[0m\u001b[0;34m)\u001b[0m\u001b[0;34m\u001b[0m\u001b[0;34m\u001b[0m\u001b[0m\n",
            "\u001b[0;32m/usr/local/lib/python3.7/dist-packages/tensorflow/python/eager/def_function.py\u001b[0m in \u001b[0;36m_call\u001b[0;34m(self, *args, **kwds)\u001b[0m\n\u001b[1;32m    945\u001b[0m       \u001b[0;31m# In this case we have created variables on the first call, so we run the\u001b[0m\u001b[0;34m\u001b[0m\u001b[0;34m\u001b[0m\u001b[0;34m\u001b[0m\u001b[0m\n\u001b[1;32m    946\u001b[0m       \u001b[0;31m# defunned version which is guaranteed to never create variables.\u001b[0m\u001b[0;34m\u001b[0m\u001b[0;34m\u001b[0m\u001b[0;34m\u001b[0m\u001b[0m\n\u001b[0;32m--> 947\u001b[0;31m       \u001b[0;32mreturn\u001b[0m \u001b[0mself\u001b[0m\u001b[0;34m.\u001b[0m\u001b[0m_stateless_fn\u001b[0m\u001b[0;34m(\u001b[0m\u001b[0;34m*\u001b[0m\u001b[0margs\u001b[0m\u001b[0;34m,\u001b[0m \u001b[0;34m**\u001b[0m\u001b[0mkwds\u001b[0m\u001b[0;34m)\u001b[0m  \u001b[0;31m# pylint: disable=not-callable\u001b[0m\u001b[0;34m\u001b[0m\u001b[0;34m\u001b[0m\u001b[0m\n\u001b[0m\u001b[1;32m    948\u001b[0m     \u001b[0;32melif\u001b[0m \u001b[0mself\u001b[0m\u001b[0;34m.\u001b[0m\u001b[0m_stateful_fn\u001b[0m \u001b[0;32mis\u001b[0m \u001b[0;32mnot\u001b[0m \u001b[0;32mNone\u001b[0m\u001b[0;34m:\u001b[0m\u001b[0;34m\u001b[0m\u001b[0;34m\u001b[0m\u001b[0m\n\u001b[1;32m    949\u001b[0m       \u001b[0;31m# Release the lock early so that multiple threads can perform the call\u001b[0m\u001b[0;34m\u001b[0m\u001b[0;34m\u001b[0m\u001b[0;34m\u001b[0m\u001b[0m\n",
            "\u001b[0;32m/usr/local/lib/python3.7/dist-packages/tensorflow/python/eager/function.py\u001b[0m in \u001b[0;36m__call__\u001b[0;34m(self, *args, **kwargs)\u001b[0m\n\u001b[1;32m   2955\u001b[0m        filtered_flat_args) = self._maybe_define_function(args, kwargs)\n\u001b[1;32m   2956\u001b[0m     return graph_function._call_flat(\n\u001b[0;32m-> 2957\u001b[0;31m         filtered_flat_args, captured_inputs=graph_function.captured_inputs)  # pylint: disable=protected-access\n\u001b[0m\u001b[1;32m   2958\u001b[0m \u001b[0;34m\u001b[0m\u001b[0m\n\u001b[1;32m   2959\u001b[0m   \u001b[0;34m@\u001b[0m\u001b[0mproperty\u001b[0m\u001b[0;34m\u001b[0m\u001b[0;34m\u001b[0m\u001b[0m\n",
            "\u001b[0;32m/usr/local/lib/python3.7/dist-packages/tensorflow/python/eager/function.py\u001b[0m in \u001b[0;36m_call_flat\u001b[0;34m(self, args, captured_inputs, cancellation_manager)\u001b[0m\n\u001b[1;32m   1852\u001b[0m       \u001b[0;31m# No tape is watching; skip to running the function.\u001b[0m\u001b[0;34m\u001b[0m\u001b[0;34m\u001b[0m\u001b[0;34m\u001b[0m\u001b[0m\n\u001b[1;32m   1853\u001b[0m       return self._build_call_outputs(self._inference_function.call(\n\u001b[0;32m-> 1854\u001b[0;31m           ctx, args, cancellation_manager=cancellation_manager))\n\u001b[0m\u001b[1;32m   1855\u001b[0m     forward_backward = self._select_forward_and_backward_functions(\n\u001b[1;32m   1856\u001b[0m         \u001b[0margs\u001b[0m\u001b[0;34m,\u001b[0m\u001b[0;34m\u001b[0m\u001b[0;34m\u001b[0m\u001b[0m\n",
            "\u001b[0;32m/usr/local/lib/python3.7/dist-packages/tensorflow/python/eager/function.py\u001b[0m in \u001b[0;36mcall\u001b[0;34m(self, ctx, args, cancellation_manager)\u001b[0m\n\u001b[1;32m    502\u001b[0m               \u001b[0minputs\u001b[0m\u001b[0;34m=\u001b[0m\u001b[0margs\u001b[0m\u001b[0;34m,\u001b[0m\u001b[0;34m\u001b[0m\u001b[0;34m\u001b[0m\u001b[0m\n\u001b[1;32m    503\u001b[0m               \u001b[0mattrs\u001b[0m\u001b[0;34m=\u001b[0m\u001b[0mattrs\u001b[0m\u001b[0;34m,\u001b[0m\u001b[0;34m\u001b[0m\u001b[0;34m\u001b[0m\u001b[0m\n\u001b[0;32m--> 504\u001b[0;31m               ctx=ctx)\n\u001b[0m\u001b[1;32m    505\u001b[0m         \u001b[0;32melse\u001b[0m\u001b[0;34m:\u001b[0m\u001b[0;34m\u001b[0m\u001b[0;34m\u001b[0m\u001b[0m\n\u001b[1;32m    506\u001b[0m           outputs = execute.execute_with_cancellation(\n",
            "\u001b[0;32m/usr/local/lib/python3.7/dist-packages/tensorflow/python/eager/execute.py\u001b[0m in \u001b[0;36mquick_execute\u001b[0;34m(op_name, num_outputs, inputs, attrs, ctx, name)\u001b[0m\n\u001b[1;32m     53\u001b[0m     \u001b[0mctx\u001b[0m\u001b[0;34m.\u001b[0m\u001b[0mensure_initialized\u001b[0m\u001b[0;34m(\u001b[0m\u001b[0;34m)\u001b[0m\u001b[0;34m\u001b[0m\u001b[0;34m\u001b[0m\u001b[0m\n\u001b[1;32m     54\u001b[0m     tensors = pywrap_tfe.TFE_Py_Execute(ctx._handle, device_name, op_name,\n\u001b[0;32m---> 55\u001b[0;31m                                         inputs, attrs, num_outputs)\n\u001b[0m\u001b[1;32m     56\u001b[0m   \u001b[0;32mexcept\u001b[0m \u001b[0mcore\u001b[0m\u001b[0;34m.\u001b[0m\u001b[0m_NotOkStatusException\u001b[0m \u001b[0;32mas\u001b[0m \u001b[0me\u001b[0m\u001b[0;34m:\u001b[0m\u001b[0;34m\u001b[0m\u001b[0;34m\u001b[0m\u001b[0m\n\u001b[1;32m     57\u001b[0m     \u001b[0;32mif\u001b[0m \u001b[0mname\u001b[0m \u001b[0;32mis\u001b[0m \u001b[0;32mnot\u001b[0m \u001b[0;32mNone\u001b[0m\u001b[0;34m:\u001b[0m\u001b[0;34m\u001b[0m\u001b[0;34m\u001b[0m\u001b[0m\n",
            "\u001b[0;31mKeyboardInterrupt\u001b[0m: "
          ]
        }
      ],
      "source": [
        "model.fit(X_train,y_train,validation_data=(X_test,ytest),epochs=100,batch_size=64,verbose=1)"
      ]
    },
    {
      "cell_type": "code",
      "execution_count": null,
      "metadata": {
        "id": "WD225rdWBuG7"
      },
      "outputs": [],
      "source": [
        "import tensorflow as tf"
      ]
    },
    {
      "cell_type": "code",
      "execution_count": null,
      "metadata": {
        "id": "qXWjbSNsBuG7"
      },
      "outputs": [],
      "source": [
        "tf.__version__"
      ]
    },
    {
      "cell_type": "code",
      "execution_count": null,
      "metadata": {
        "id": "xqXO8-UiBuG7"
      },
      "outputs": [],
      "source": [
        "### Lets Do the prediction and check performance metrics\n",
        "train_predict=model.predict(X_train)\n",
        "test_predict=model.predict(X_test)"
      ]
    },
    {
      "cell_type": "code",
      "execution_count": null,
      "metadata": {
        "id": "5yPQbaDyBuG8"
      },
      "outputs": [],
      "source": [
        "##Transformback to original form\n",
        "train_predict=scaler.inverse_transform(train_predict)\n",
        "test_predict=scaler.inverse_transform(test_predict)"
      ]
    },
    {
      "cell_type": "code",
      "execution_count": null,
      "metadata": {
        "id": "PDkyxfZ6BuG8"
      },
      "outputs": [],
      "source": [
        "### Calculate RMSE performance metrics\n",
        "import math\n",
        "from sklearn.metrics import mean_squared_error\n",
        "math.sqrt(mean_squared_error(y_train,train_predict))"
      ]
    },
    {
      "cell_type": "code",
      "execution_count": null,
      "metadata": {
        "id": "vCFZq7NBBuG8"
      },
      "outputs": [],
      "source": [
        "### Test Data RMSE\n",
        "math.sqrt(mean_squared_error(ytest,test_predict))"
      ]
    },
    {
      "cell_type": "code",
      "execution_count": null,
      "metadata": {
        "id": "Ad3_PnV7BuG8"
      },
      "outputs": [],
      "source": [
        "### Plotting \n",
        "# shift train predictions for plotting\n",
        "look_back=100\n",
        "trainPredictPlot = numpy.empty_like(df1)\n",
        "trainPredictPlot[:, :] = np.nan\n",
        "trainPredictPlot[look_back:len(train_predict)+look_back, :] = train_predict\n",
        "# shift test predictions for plotting\n",
        "testPredictPlot = numpy.empty_like(df1)\n",
        "testPredictPlot[:, :] = numpy.nan\n",
        "testPredictPlot[len(train_predict)+(look_back*2)+1:len(df1)-1, :] = test_predict\n",
        "# plot baseline and predictions\n",
        "plt.plot(scaler.inverse_transform(df1))\n",
        "plt.plot(trainPredictPlot)\n",
        "plt.plot(testPredictPlot)\n",
        "plt.show()"
      ]
    },
    {
      "cell_type": "code",
      "execution_count": null,
      "metadata": {
        "id": "R0eRxodhBuG8"
      },
      "outputs": [],
      "source": [
        "len(test_data)"
      ]
    },
    {
      "cell_type": "code",
      "execution_count": null,
      "metadata": {
        "id": "BZBD_Y_LBuG9"
      },
      "outputs": [],
      "source": [
        "x_input=test_data[341:].reshape(1,-1)\n",
        "x_input.shape\n"
      ]
    },
    {
      "cell_type": "code",
      "execution_count": null,
      "metadata": {
        "id": "v178IgftBuG9"
      },
      "outputs": [],
      "source": [
        ""
      ]
    },
    {
      "cell_type": "code",
      "execution_count": null,
      "metadata": {
        "id": "8w-rJ_8pBuG9"
      },
      "outputs": [],
      "source": [
        ""
      ]
    },
    {
      "cell_type": "code",
      "execution_count": null,
      "metadata": {
        "id": "zBkw9MatBuG9"
      },
      "outputs": [],
      "source": [
        "temp_input=list(x_input)\n",
        "temp_input=temp_input[0].tolist()"
      ]
    },
    {
      "cell_type": "code",
      "execution_count": null,
      "metadata": {
        "id": "RHzvxlvVBuG9"
      },
      "outputs": [],
      "source": [
        "temp_input"
      ]
    },
    {
      "cell_type": "code",
      "execution_count": null,
      "metadata": {
        "id": "LaNTl2fCBuG9"
      },
      "outputs": [],
      "source": [
        "# demonstrate prediction for next 10 days\n",
        "from numpy import array\n",
        "\n",
        "lst_output=[]\n",
        "n_steps=100\n",
        "i=0\n",
        "while(i<30):\n",
        "    \n",
        "    if(len(temp_input)>100):\n",
        "        #print(temp_input)\n",
        "        x_input=np.array(temp_input[1:])\n",
        "        print(\"{} day input {}\".format(i,x_input))\n",
        "        x_input=x_input.reshape(1,-1)\n",
        "        x_input = x_input.reshape((1, n_steps, 1))\n",
        "        #print(x_input)\n",
        "        yhat = model.predict(x_input, verbose=0)\n",
        "        print(\"{} day output {}\".format(i,yhat))\n",
        "        temp_input.extend(yhat[0].tolist())\n",
        "        temp_input=temp_input[1:]\n",
        "        #print(temp_input)\n",
        "        lst_output.extend(yhat.tolist())\n",
        "        i=i+1\n",
        "    else:\n",
        "        x_input = x_input.reshape((1, n_steps,1))\n",
        "        yhat = model.predict(x_input, verbose=0)\n",
        "        print(yhat[0])\n",
        "        temp_input.extend(yhat[0].tolist())\n",
        "        print(len(temp_input))\n",
        "        lst_output.extend(yhat.tolist())\n",
        "        i=i+1\n",
        "    \n",
        "\n",
        "print(lst_output)"
      ]
    },
    {
      "cell_type": "code",
      "execution_count": null,
      "metadata": {
        "id": "RV3Vr5CqBuG-"
      },
      "outputs": [],
      "source": [
        "day_new=np.arange(1,102)\n",
        "day_pred=np.arange(101,131)"
      ]
    },
    {
      "cell_type": "code",
      "execution_count": null,
      "metadata": {
        "id": "rVOZHYxQBuG-"
      },
      "outputs": [],
      "source": [
        "import matplotlib.pyplot as plt"
      ]
    },
    {
      "cell_type": "code",
      "execution_count": null,
      "metadata": {
        "id": "_MtL1cH4BuG-"
      },
      "outputs": [],
      "source": [
        "len(df1)"
      ]
    },
    {
      "cell_type": "code",
      "execution_count": null,
      "metadata": {
        "id": "m06Wrh9qBuG-"
      },
      "outputs": [],
      "source": [
        ""
      ]
    },
    {
      "cell_type": "code",
      "execution_count": null,
      "metadata": {
        "id": "dyyWLMAEBuG_"
      },
      "outputs": [],
      "source": [
        "plt.plot(day_new,scaler.inverse_transform(df1[1158:]))\n",
        "plt.plot(day_pred,scaler.inverse_transform(lst_output))"
      ]
    },
    {
      "cell_type": "code",
      "execution_count": null,
      "metadata": {
        "id": "5O9skABcBuG_"
      },
      "outputs": [],
      "source": [
        "df3=df1.tolist()\n",
        "df3.extend(lst_output)\n",
        "plt.plot(df3[1200:])"
      ]
    },
    {
      "cell_type": "code",
      "execution_count": null,
      "metadata": {
        "id": "XbF7gOiuBuG_"
      },
      "outputs": [],
      "source": [
        "df3=scaler.inverse_transform(df3).tolist()"
      ]
    },
    {
      "cell_type": "code",
      "execution_count": null,
      "metadata": {
        "id": "VZM9WgrXBuG_"
      },
      "outputs": [],
      "source": [
        "plt.plot(df3)"
      ]
    },
    {
      "cell_type": "code",
      "execution_count": null,
      "metadata": {
        "id": "VDxHnDB7BuG_"
      },
      "outputs": [],
      "source": [
        ""
      ]
    }
  ],
  "metadata": {
    "kernelspec": {
      "display_name": "Python 3",
      "language": "python",
      "name": "python3"
    },
    "language_info": {
      "codemirror_mode": {
        "name": "ipython",
        "version": 3
      },
      "file_extension": ".py",
      "mimetype": "text/x-python",
      "name": "python",
      "nbconvert_exporter": "python",
      "pygments_lexer": "ipython3",
      "version": "3.6.9"
    },
    "colab": {
      "name": "Chalja bhai",
      "provenance": [],
      "collapsed_sections": []
    }
  },
  "nbformat": 4,
  "nbformat_minor": 0
}
